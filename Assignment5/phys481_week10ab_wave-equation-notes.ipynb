{
 "cells": [
  {
   "cell_type": "markdown",
   "id": "5d3cfc09",
   "metadata": {},
   "source": [
    "# Wave Equation - additional notes\n",
    "### Phys481 - week10b"
   ]
  },
  {
   "cell_type": "code",
   "execution_count": 1,
   "id": "4b715470",
   "metadata": {},
   "outputs": [],
   "source": [
    "import numpy as np\n",
    "import matplotlib.pyplot as plt\n",
    "\n",
    "# fast centered first difference with cyclic edges\n",
    "#\n",
    "DuDroll = lambda u: ( np.roll(u,-1) - np.roll(u,+1) ) / 2.0\n"
   ]
  },
  {
   "cell_type": "code",
   "execution_count": 2,
   "id": "c443ac0c",
   "metadata": {},
   "outputs": [],
   "source": [
    "\n",
    "C_2 = 0.5  # Courant number squared  <= 1.0\n",
    "\n",
    "nx = 5  # number of grid points\n",
    "\n",
    "nt = 9  # of time steps\n",
    "\n",
    "ut = np.zeros(nx)  # nx points for each of nt times\n",
    "\n",
    "x = np.zeros( nx )\n",
    "u = np.zeros( (nt, nx) )\n",
    "ux = np.zeros( u.shape )    # first derivative wrt. x\n",
    "uxx = np.zeros( u.shape )   # second derivative wrt. x\n"
   ]
  },
  {
   "cell_type": "code",
   "execution_count": 3,
   "id": "8c647420",
   "metadata": {},
   "outputs": [],
   "source": [
    "u[0,:] =   [0, 0, 4, 0, 0]  # initial profile at t=0: spike\n",
    "ux[0,:] =  [0, 2, 0,-2, 0]  # initial profile slope\n",
    "uxx[0,:] = [1, 0,-2, 0, 1]"
   ]
  },
  {
   "cell_type": "code",
   "execution_count": 4,
   "id": "a4966561",
   "metadata": {},
   "outputs": [],
   "source": [
    "# The profile of displacements at t=0 is one boundary condition \n",
    "# which could be used to constrain the general wave equation and \n",
    "# obtain a specific result.\n",
    "#\n",
    "u[0,:] =   [0, 0, 4, 0, 0]  # initial profile at t=0: spike\n",
    "\n",
    "# Another possibility is to specify the velocity (first time derivative) \n",
    "# at t=0.\n",
    "#\n",
    "ut = np.zeros( u.shape )\n",
    "ut[0,:] =   [0, 0, 0, 0, 0]  # initially stationary (v=0) at t=0."
   ]
  },
  {
   "cell_type": "code",
   "execution_count": 5,
   "id": "e61f2888",
   "metadata": {},
   "outputs": [],
   "source": [
    "# If we only know the initial profile u[0,:] then all we\n",
    "# can do is calculate \"x\" spatial derivative estimates.\n",
    "#\n",
    "u[0,:] =   [0,  0,  4,  0,  0]  # initial profile at t=0: spike\n",
    "ux[0,:] =  [0,  2,  0, -2,  0]  # initial profile slope\n",
    "uxx[0,:] = [1,  0, -2,  0,  1]  # initial profile 2nd x-derivative\n",
    "\n",
    "# Let the computer check my work\n",
    "#\n",
    "assert( np.allclose( ux[0,:], DuDroll(u[0,:]) ))\n",
    "assert( np.allclose( uxx[0,:], DuDroll(ux[0,:]) ))"
   ]
  },
  {
   "cell_type": "code",
   "execution_count": 6,
   "id": "2fe080dd",
   "metadata": {
    "scrolled": false
   },
   "outputs": [
    {
     "data": {
      "image/png": "[encoded data removed]",
      "text/plain": [
       "<Figure size 1080x360 with 3 Axes>"
      ]
     },
     "metadata": {
      "needs_background": "light"
     },
     "output_type": "display_data"
    }
   ],
   "source": [
    "def plot_table_xt(cell_text, title='', rowLabels=None, colLabels=None, axes=None, bbox=(0.1,0.1,0.9,0.9)):\n",
    "    \n",
    "    axes = plt.gca() if axes is None else axes\n",
    "    plt.sca(axes) ; plt.gca().axis('off')\n",
    "    \n",
    "    the_table = plt.table(cellText=cell_text, rowLabels=rowLabels,\n",
    "        colLabels=colLabels,\n",
    "        bbox=bbox)\n",
    "    \n",
    "    the_table.set_fontsize(20)\n",
    "    plt.title(title)    \n",
    "    return\n",
    "\n",
    "def wave_march(u0, C_2=0.5, nsteps=5):\n",
    "    \"\"\"\n",
    "    \n",
    "    \"\"\"\n",
    "    u0 = np.array(u0).copy()\n",
    "    \n",
    "    fig, axes = plt.subplots(1, 3, figsize=(15,5) )\n",
    "    plt.sca(axes[0]) ; plt.gca().axis('off')\n",
    "\n",
    "    cell_text_u1 = [ [str(q)[0:5] for q in u0[:]] ]\n",
    "    cell_text_dudx = [ [str(q)[0:5] for q in DuDroll(u0[:]) ] ]                                  \n",
    "    cell_text_dudt = [ [' ' for q in u0[:] ] ] #center_roll_diff(u0) ] ]                                  \n",
    "    \n",
    "    u1 = u0 - 0.5*C_2*( np.roll(u0,+1) - 2*u0 + np.roll(u0,-1) )\n",
    "\n",
    "    for k in range(1,nsteps):  \n",
    "        u2 = -u0 + 2*u1 + C_2*( np.roll(u1,+1) - 2*u1 + np.roll(u1,-1) )         \n",
    "        cell_text_u1.insert(0, [str(q)[0:5] for q in u1[:]] )\n",
    "        cell_text_dudx.insert(0, [str(q)[0:5] for q in DuDroll(u1)] )               \n",
    "        cell_text_dudt.insert(0, [ str(q)[0:5] for q in (u2-u0)/2.0 ] )       \n",
    "        u1,u0 = u2,u1  \n",
    "\n",
    "    plot_table_xt(cell_text_u1, axes=axes[0], title='u', \n",
    "        rowLabels=[t for t in range(nsteps)][::-1],\n",
    "        colLabels=[t for t in range(nx)] )\n",
    "\n",
    "    plot_table_xt(cell_text_dudx, axes=axes[1], title=r'du/dx   ($u_x$)')\n",
    "\n",
    "    plot_table_xt(cell_text_dudt, axes=axes[2], title=r'du/dt   ($u_t$)')\n",
    "    \n",
    "   \n",
    "u0 =[ 0, 0, 4, 0, 0]\n",
    "wave_march(u0)"
   ]
  },
  {
   "cell_type": "code",
   "execution_count": null,
   "id": "57054ddb",
   "metadata": {},
   "outputs": [],
   "source": []
  }
 ],
 "metadata": {
  "kernelspec": {
   "display_name": "Python 3",
   "language": "python",
   "name": "python3"
  },
  "language_info": {
   "codemirror_mode": {
    "name": "ipython",
    "version": 3
   },
   "file_extension": ".py",
   "mimetype": "text/x-python",
   "name": "python",
   "nbconvert_exporter": "python",
   "pygments_lexer": "ipython3",
   "version": "3.8.8"
  }
 },
 "nbformat": 4,
 "nbformat_minor": 5
}
