{
 "cells": [
  {
   "cell_type": "markdown",
   "id": "a12fb1a3",
   "metadata": {},
   "source": [
    "## Overhand Assumptions\n",
    "\n",
    "In designing this overhand shuffle function, it was assumed that the overhand shuffle consisted of taking blocks of fixed size off the top of a deck, and placing them in reverse order in a new stack to reorder the cards. Some interpretations of the overhand shuffle are performed slightly differently, so in order for a precise definition of the function to be made, this specific technique described on the wiki https://en.wikipedia.org/wiki/Shuffling#Overhand_shuffle was chosen."
   ]
  },
  {
   "cell_type": "code",
   "execution_count": 1,
   "id": "1f1b92e8",
   "metadata": {},
   "outputs": [],
   "source": [
    "# Question 3\n",
    "\n",
    "def overhand_shuffle(deck, blocksize = 8):\n",
    "    \"\"\"Shuffles a deck of cards by removing packets of size \"blocksize\"\n",
    "    from the top of the deck and placing them on the top of a new second stack.\n",
    "    \n",
    "    Arguments:\n",
    "    deck -- The deck to be shuffled\n",
    "    blocksize -- The size of the packets used in the shuffle (default 8)\n",
    "    \n",
    "    Returns:\n",
    "    shuffled_deck -- The deck after performing one overhand shuffle\n",
    "    \"\"\"\n",
    "    \n",
    "    # Initializes a list for the new stack\n",
    "    shuffled_deck = []\n",
    "    \n",
    "    # While there are enough cards in the original stack to move a block, we move a block off the top to the new stack\n",
    "    while len(deck) >= blocksize:\n",
    "        # Places a block of length blocksize from the top of the original stack to the top of the new stack\n",
    "        shuffled_deck.extend(deck[len(deck) - blocksize:len(deck)])\n",
    "        \n",
    "        # Deletes the top block of the original stack\n",
    "        del deck[len(deck)-blocksize:len(deck)]\n",
    "    \n",
    "    # If there are cards left after moving the blocks, place them on the top of the new deck\n",
    "    if len(deck) > 0:\n",
    "        shuffled_deck.extend(deck[:])\n",
    "    \n",
    "    return shuffled_deck"
   ]
  },
  {
   "cell_type": "code",
   "execution_count": 3,
   "id": "e4d80829",
   "metadata": {},
   "outputs": [
    {
     "name": "stdout",
     "output_type": "stream",
     "text": [
      "Blocksize 3: [49, 46, 51, 48, 43, 50, 45, 40, 47, 42, 37, 44, 39, 34, 41, 36, 31, 38, 33, 28, 35, 30, 25, 32, 27, 22, 29, 24, 19, 26, 21, 16, 23, 18, 13, 20, 15, 10, 17, 12, 7, 14, 9, 4, 11, 6, 1, 8, 3, 2, 5, 0] \n",
      "\n",
      "Blocksize 4: [48, 49, 50, 51, 44, 45, 46, 47, 40, 41, 42, 43, 36, 37, 38, 39, 32, 33, 34, 35, 28, 29, 30, 31, 24, 25, 26, 27, 20, 21, 22, 23, 16, 17, 18, 19, 12, 13, 14, 15, 8, 9, 10, 11, 4, 5, 6, 7, 0, 1, 2, 3] \n",
      "\n",
      "Blocksize 5: [46, 47, 49, 42, 50, 51, 43, 44, 45, 48, 37, 38, 39, 40, 41, 32, 33, 34, 35, 36, 27, 28, 29, 30, 31, 22, 23, 24, 25, 26, 17, 18, 19, 20, 21, 12, 13, 14, 15, 16, 7, 8, 1, 10, 11, 2, 5, 3, 4, 6, 9, 0] \n",
      "\n",
      "Blocksize 6: [50, 51, 42, 43, 46, 47, 36, 37, 48, 49, 40, 41, 30, 31, 44, 45, 34, 35, 24, 25, 38, 39, 28, 29, 18, 19, 32, 33, 22, 23, 12, 13, 26, 27, 16, 17, 6, 7, 20, 21, 10, 11, 0, 1, 14, 15, 2, 3, 4, 5, 8, 9] \n",
      "\n",
      "Blocksize 7: [47, 44, 31, 24, 51, 38, 39, 50, 37, 30, 17, 32, 45, 46, 43, 36, 23, 10, 25, 40, 49, 42, 29, 16, 3, 18, 33, 48, 35, 22, 9, 4, 11, 26, 41, 28, 15, 0, 1, 12, 19, 34, 21, 6, 7, 8, 5, 20, 27, 2, 13, 14] \n",
      "\n"
     ]
    }
   ],
   "source": [
    "# Initialize decks of cards for testing different block sizes\n",
    "deck_list = [list( range(52) ) for i in range(5)]\n",
    "\n",
    "# Shuffles the decks 21 times using specified block sizes ranging from 3 to 7\n",
    "for i in range(21):\n",
    "    for j in range(5):\n",
    "        deck_list[j] = overhand_shuffle(deck_list[j], blocksize = j+3)\n",
    "    \n",
    "# Prints the shuffled decks along with the blocksize used\n",
    "for i in range(5):\n",
    "    print(\"Blocksize\",str(i+3)+\":\",deck_list[i],\"\\n\")"
   ]
  },
  {
   "cell_type": "markdown",
   "id": "642f155e",
   "metadata": {},
   "source": [
    "## Randomness Assessment:\n",
    "\n",
    "It appears that randomness is not always achieved for the overhand shuffle, and depends quite drastically on the blocksize used. For instance with the blocksize of four, we have numbers grouped in ordered four-tuples, of adjacent size (for example 8,9,10,11). On the other hand, a blocksize of 7 appears to givee a relatively random shuffling, with no very clear patterns being seen in the resulting deck."
   ]
  },
  {
   "cell_type": "code",
   "execution_count": null,
   "id": "16ad2ff4",
   "metadata": {},
   "outputs": [],
   "source": []
  }
 ],
 "metadata": {
  "kernelspec": {
   "display_name": "Python 3",
   "language": "python",
   "name": "python3"
  },
  "language_info": {
   "codemirror_mode": {
    "name": "ipython",
    "version": 3
   },
   "file_extension": ".py",
   "mimetype": "text/x-python",
   "name": "python",
   "nbconvert_exporter": "python",
   "pygments_lexer": "ipython3",
   "version": "3.8.8"
  }
 },
 "nbformat": 4,
 "nbformat_minor": 5
}
