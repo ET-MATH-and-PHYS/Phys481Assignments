{
 "cells": [
  {
   "cell_type": "markdown",
   "metadata": {},
   "source": [
    "## Introduction\n",
    "\n",
    "We investigate the nature and construction of both 1 dimensional and 2 dimensional cellular automata as well as it's applications to pseudo-random number generation. Cellular automata are systems which have many different cells that exist either in an on or off state and evolve to the next state over a time step according to a set of predetermined rules. In Task 1 we investigate the nature of single cellular \"Wolfram\" automata, which consist of an arbitrary number of cells in a row which evolve based on the current state of the adjacent cells. The evolution rules governing the automata can be reduced to a single 8-bit binary integer, and this allowed us to write a program which generates a sequence of 1 dimensional automata for any number of tiem steps.\n",
    "\n",
    "Using the egnerated sequences of automata, we limit the number of cells to 64 in order to emulate a binary representation of a 64-bit integer. We analyzed the usefulness of cellular automata as a pseudo-random number generator by measureing the Shannon entropy of the generated sequences multiple times, using different definitions of the possible outcomes of the system for the calculation to determine the best approach. The highest entropy rule could then be used to generate psudo-random number sequences.\n",
    "\n",
    "Finally we also analyzed a 2 dimensional cellular automata known as Conway's Game of Life. By allowing the automata to run for large amounts of time we analyzed the steady state behavior of Conway's Game of Life as it related to the intial starting density of the board."
   ]
  },
  {
   "cell_type": "markdown",
   "metadata": {},
   "source": [
    "## Task 1.2\n",
    "\n",
    "The following code tests the entropy of all 256 possible single cell automata rules to determine which is suitable for use as a random number generator. We test different amounts of successive cells as our events in question, including single, double and triple cell configurations to test the entropy of the rules."
   ]
  },
  {
   "cell_type": "code",
   "execution_count": 112,
   "metadata": {},
   "outputs": [],
   "source": [
    "import numpy as np\n",
    "import matplotlib.pyplot as plt\n",
    "\n",
    "# Taken from pseudo-random notes\n",
    "def symbol_entropy(datalist):\n",
    "    '''Estimate the Shannon entropy for a sequence of symbols.\n",
    "    '''\n",
    "    \n",
    "    hist = {}\n",
    "    for item in datalist:\n",
    "        if item not in hist:\n",
    "            hist[item] = 1\n",
    "        else: \n",
    "            hist[item] += 1\n",
    "            \n",
    "    counts = np.array( [hist[item] for item in hist])\n",
    "    prob = counts / np.sum(counts)\n",
    "    prob = prob[ prob != 0 ] #; print(prob)\n",
    "    entropy = -np.sum( prob * np.log2(prob) )\n",
    "\n",
    "    return entropy"
   ]
  },
  {
   "cell_type": "code",
   "execution_count": 113,
   "metadata": {},
   "outputs": [],
   "source": [
    "# These are Elijah's functions\n",
    "\n",
    "def cellular_step(states, rule_number):\n",
    "    \"\"\"Applies the specified rule number to the list of states by converting it into binary,\n",
    "    and using the the 3 bit integer associated with every neighborhood of cells in the \n",
    "    list, indexes the appropriate state change from the binary rule number. Classically\n",
    "    the leading digits in the binary representation of the rule number correspond to state\n",
    "    changes in the largest integers associated with the state neighborhoods (for instance \n",
    "    the left most digit would be the state change for the neighborhood 111, associated with \n",
    "    the integer 7), so as larger indexes relate to items further right in an array we invert\n",
    "    the binary representation of the rule_number.\n",
    "    \n",
    "    Arguments:\n",
    "    states -- a row of states associated for a cellular automaton\n",
    "    rule_number -- an 8 bit integer associated with a way of obtaining the next\n",
    "                    state for each cell in states using the values of its neighbors\n",
    "                    \n",
    "    Returns:\n",
    "    states -- the new generation of the states after applying the transition rule\n",
    "    \"\"\"\n",
    "    \n",
    "    # Turns the integer rule number into an 8 bit binary number, and reverses its order\n",
    "    transition_rule = np.unpackbits( np.uint8(rule_number) )[::-1]\n",
    "    \n",
    "    # Initializes an array for storing the index associated to the transition of each cell\n",
    "    indices = np.zeros(len(states), dtype = np.uint8)\n",
    "    \n",
    "    # Determines the index in the transition rule for each cell in the list of states\n",
    "    for i in range(len(states)):\n",
    "        # Converts the triple of ones and zeros associated to any state neighborhood into \n",
    "        # a base ten integer. Uses mod len(states) so that the cells on the edges loop around\n",
    "        # when looking at their neighbors\n",
    "        indices[i] = states[(i-1) % len(states)]*4+states[i % len(states)]*2 + states[(i+1)%len(states)]\n",
    "        \n",
    "        \n",
    "\n",
    "    # Applies the transition rule to each state using its calculated index\n",
    "    states = transition_rule[ indices ]\n",
    "\n",
    "    return states\n",
    "\n",
    "def run_automaton(rule_number, ngens, ncells):\n",
    "    \"\"\"Runs the given rule number on a collection of cells\n",
    "    of length ncells a specified number of times, and returns\n",
    "    a grid containing each generation.\n",
    "    \n",
    "    Arguments:\n",
    "    rule_number -- an 8 bit integer used in deciding the next state of each cell in\n",
    "                    the automaton based on the states of its neighbors and its current state\n",
    "    ngens -- the number of generations of the automaton to compute\n",
    "    ncells -- the number of cells in the automaton\n",
    "                    \n",
    "    Returns:\n",
    "    grid -- a collection of each generation of cells in the automaton\n",
    "    \"\"\"\n",
    "    \n",
    "    # Initializes row of states with a one in the center\n",
    "    states = np.zeros(ncells, dtype = np.uint8)\n",
    "    states[len(states)//2] = 1\n",
    "    \n",
    "    # Creates a grid for storing the various generations of the cells\n",
    "    grid = np.zeros((ngens, ncells), dtype = np.uint8)\n",
    "    grid[1,:] = states\n",
    "    \n",
    "    # For each grid, updates the cell states with some cellular_step function and the given rule number\n",
    "    for i in range(1,ngens):\n",
    "        states = cellular_step(states, rule_number)\n",
    "        grid[i,:] = states\n",
    "    \n",
    "    return grid"
   ]
  },
  {
   "cell_type": "code",
   "execution_count": 114,
   "metadata": {},
   "outputs": [],
   "source": [
    "def multi_step_rule_entropy(rule, steps, ncells=64, nevents=400):\n",
    "    \"\"\"This function takes in a given 1-D cellular automaton rule and calculates the total \n",
    "    entropy for a specific number of events where each event correpsonds to a specific number \n",
    "    of successive steps in the state of the automaton.\n",
    "    \n",
    "    Arguments:\n",
    "    rule -- an 8-bit unsigned integer that specified the automata rule in question\n",
    "    steps -- the number of succesive steps in the automation being considered a single outcome\n",
    "    ncells -- the number of cells of the automation\n",
    "    nevents -- the number of outcomes which should be tested for the entropy calculation\n",
    "    \n",
    "    Returns:\n",
    "    entropy/steps -- The function returns the sum of the total entropy of every cell over \n",
    "                    the course of the automation per step\n",
    "    \"\"\"\n",
    "    \n",
    "#     # Create the intial state\n",
    "#     state = np.zeros(ncells, dtype=np.uint8)\n",
    "#     state[ncells//2] = 1  # initialize one cell near the middle\n",
    "    \n",
    "#     nstates = nevents*steps\n",
    "#     buffer = 50*steps\n",
    "#     states = np.zeros([nstates, ncells], dtype=np.uint8)\n",
    "#     for n in range(nstates + buffer):\n",
    "#         state = cellular_step(state, rule)\n",
    "#         if (n >= buffer):\n",
    "#             states[n - buffer] = state\n",
    "    \n",
    "    # Get the states of the automaton\n",
    "    buffer = 50 # Create a buffer so that the auomata reaches some form of steady state\n",
    "    ngens = nevents*steps + buffer\n",
    "    states = run_automaton(rule, ngens, ncells)\n",
    "    states = states[buffer:,:] #Remove the buffer generations\n",
    "    \n",
    "    # Calculate the sum of the entropies of every cell\n",
    "    entropy = 0\n",
    "    for i in range(ncells):\n",
    "        events = states[:,i].reshape(nevents, steps) # Reshape the grid into a single row of all values the cell had\n",
    "        events_tuple = tuple(tuple(event) for event in events) # Cast to tuple for hashing purposes\n",
    "        entropy += symbol_entropy(events_tuple) # Calculate the entropy for the cell\n",
    "    \n",
    "    return entropy/steps"
   ]
  },
  {
   "cell_type": "code",
   "execution_count": 124,
   "metadata": {},
   "outputs": [],
   "source": [
    "def multi_step_entropies(steps, ncells=64, nevents=400):\n",
    "    \"\"\"This function takes in a set of specified parameters for the single \n",
    "    cellular automaton and produces an array of values for the entropy of\n",
    "    the automaton for every possible one dimensional rule as well as a sorted \n",
    "    list of the rules from the highest to the lowest entropy.\n",
    "    \n",
    "    Arguments:\n",
    "    steps -- the number of succesive steps in the automation being considered a single outcome\n",
    "    ncells -- the number of cells of the automation\n",
    "    nevents -- the number of outcomes which should be tested for the entropy calculation\n",
    "    \n",
    "    Returns:\n",
    "    sorted_rules -- an array of 256 8-bit unsigned integers corresponding to the single cell automata rules \n",
    "                    sorted from highest to lowest entropy\n",
    "    entropies -- an array of 256 floating point numbers where every entry is the entropy corresponding to \n",
    "                the single cell automata rule specified by the index\n",
    "    \"\"\"\n",
    "    \n",
    "    entropies = np.zeros(256)\n",
    "\n",
    "    # Calculate and store the entropies for every rule\n",
    "    for rule in np.array(range(256), dtype=np.uint8):\n",
    "        entropies[rule] = multi_step_rule_entropy(rule, steps, ncells, nevents)\n",
    "\n",
    "    # Sort the rules by order of decreasing entropy\n",
    "    sorted_rules = np.argsort(entropies)[::-1]\n",
    "    \n",
    "    return sorted_rules, entropies"
   ]
  },
  {
   "cell_type": "code",
   "execution_count": 125,
   "metadata": {},
   "outputs": [],
   "source": [
    "# We calculate the entropies for three different numbers of successive steps for comparison\n",
    "one_step_rules, one_step_entropies = multi_step_entropies(1)\n",
    "two_step_rules, two_step_entropies = multi_step_entropies(2)\n",
    "three_step_rules, three_step_entropies = multi_step_entropies(3)"
   ]
  },
  {
   "cell_type": "code",
   "execution_count": 117,
   "metadata": {},
   "outputs": [
    {
     "name": "stdout",
     "output_type": "stream",
     "text": [
      "The five highest entropy rules for single step entropy calculations are (in order):\n",
      "Rule: 127 \t Entropy: 64.0\n",
      "Rule: 58 \t Entropy: 64.0\n",
      "Rule: 21 \t Entropy: 64.0\n",
      "Rule: 23 \t Entropy: 64.0\n",
      "Rule: 55 \t Entropy: 64.0\n"
     ]
    }
   ],
   "source": [
    "print(\"The five highest entropy rules for single step entropy calculations are (in order):\")\n",
    "for rule in one_step_rules[:5]:\n",
    "    print(\"Rule:\", rule, \"\\t Entropy:\", one_step_entropies[rule])"
   ]
  },
  {
   "cell_type": "code",
   "execution_count": 118,
   "metadata": {},
   "outputs": [
    {
     "name": "stdout",
     "output_type": "stream",
     "text": [
      "The five highest entropy rules for two step entropy calculations are (in order):\n",
      "Rule: 75 \t Entropy: 63.78261580261772\n",
      "Rule: 89 \t Entropy: 63.78261580261771\n",
      "Rule: 101 \t Entropy: 63.757528397172436\n",
      "Rule: 45 \t Entropy: 63.75752839717243\n",
      "Rule: 30 \t Entropy: 63.73032042995543\n"
     ]
    }
   ],
   "source": [
    "print(\"The five highest entropy rules for two step entropy calculations are (in order):\")\n",
    "for rule in two_step_rules[:5]:\n",
    "    print(\"Rule:\", rule, \"\\t Entropy:\", two_step_entropies[rule])"
   ]
  },
  {
   "cell_type": "code",
   "execution_count": 126,
   "metadata": {},
   "outputs": [
    {
     "name": "stdout",
     "output_type": "stream",
     "text": [
      "The five highest entropy rules for three step entropy calculations are (in order):\n",
      "Rule: 89 \t Entropy: 63.73352668657989\n",
      "Rule: 75 \t Entropy: 63.733526686579886\n",
      "Rule: 86 \t Entropy: 63.70803033881439\n",
      "Rule: 30 \t Entropy: 63.70803033881438\n",
      "Rule: 101 \t Entropy: 63.692013038375684\n"
     ]
    }
   ],
   "source": [
    "print(\"The five highest entropy rules for three step entropy calculations are (in order):\")\n",
    "for rule in three_step_rules[:5]:\n",
    "    print(\"Rule:\", rule, \"\\t Entropy:\", three_step_entropies[rule])"
   ]
  },
  {
   "cell_type": "markdown",
   "metadata": {},
   "source": [
    "We can see that as we increase the number of steps considered to be a single outcome for the purposes of calculating the entropy of the system, we also see an increase in the difference of calculated entropies between the different rules. This helps us to distinguish the truly random looking rules from ones with successive patterns. Therefore we use the three step entropy calculations for the next task."
   ]
  },
  {
   "cell_type": "markdown",
   "metadata": {},
   "source": [
    "## Task 1.3\n",
    "\n",
    "This code defines a function which utilizes cellular automata to produce a sequance of random unsigned 64-bit integers."
   ]
  },
  {
   "cell_type": "code",
   "execution_count": 120,
   "metadata": {},
   "outputs": [],
   "source": [
    "def packbits64(array):\n",
    "    \"\"\"This function operates similar to np.packbits but works on 64-bit unsigned integers\n",
    "    instead of 8-bit integers. It takes in an array of 64 binary values and outputs the appropriate\n",
    "    64 bit number.\n",
    "    \n",
    "    Arguments:\n",
    "    array -- An array of 64 binray values to be converted to a 64 bit unsigned integer\n",
    "    \n",
    "    Returns:\n",
    "    integer -- A 64 bit unsigned integer\n",
    "    \"\"\"\n",
    "    \n",
    "    # Assert the right form for the array\n",
    "    assert ((len(array) == 64) & (array.dtype == np.uint8) & (max(array) <= 1))\n",
    "    \n",
    "    # Calculate the integer\n",
    "    integer = np.uint64(0)\n",
    "    for index in range(64):\n",
    "        integer += array[index]*np.uint64(2**(63 - index))\n",
    "    \n",
    "    return integer\n",
    "\n",
    "def unpackbits64(integer):\n",
    "    \"\"\"This function operates similar to np.unpackbits but works on 64-bit unsigned integers\n",
    "    instead of 8-bit integers. It takes in a 64 bit unsigned integer and outputs an array corresponding\n",
    "    to it's binary representation.\n",
    "    \n",
    "    Arguments:\n",
    "    integer -- A 64 bit unsigned integer\n",
    "    \n",
    "    Returns:\n",
    "    array -- 64 binary values which constitute the binary representation of the integer\n",
    "    \"\"\"\n",
    "    \n",
    "    # Assert the right form of the integer\n",
    "    assert (type(integer) == np.uint64)\n",
    "    \n",
    "    # Calculate the binary representation\n",
    "    array = np.zeros(64, dtype= np.uint8)\n",
    "    for index in range(64):\n",
    "        if integer >= np.uint64(2**(63 - index)):\n",
    "            array[index] = 1\n",
    "            integer %= np.uint64(2**(63 - index)) # Divide out the value of the digit stored form the integer\n",
    "    \n",
    "    return array"
   ]
  },
  {
   "cell_type": "code",
   "execution_count": 121,
   "metadata": {},
   "outputs": [],
   "source": [
    "def automata_rand(rule, n=1, seed=None):\n",
    "    \"\"\"This funtion produces either a single pseudo-random 64 bit unsigned integer \n",
    "    or a sequential array of pseudo-random integers as determined from the sequence\n",
    "    of states produced by a specified single cellular automata. In the abscence of \n",
    "    a given seed the automata runs from a single on cell at position 32 for 50 cycles\n",
    "    before producing pseudo-random values.\n",
    "    \n",
    "    Arguments:\n",
    "    rule -- The single cell automata rule to be used given as an 8-bit unsigned integer\n",
    "    n -- The number of values to be produced\n",
    "    seed -- A 64 bit unsigned integer representing the state of the automaton before\n",
    "            the new values are generated\n",
    "    \n",
    "    Returns:\n",
    "    seed -- A single pseudo-random number produced when n=1 or the new seed for the \n",
    "            next generated psuedo-random number\n",
    "    gen_nums -- An array of length n>1 containing pseudo-random 64 bit unsigned integers\n",
    "    \"\"\"\n",
    "    \n",
    "    # Initialize a seed from 50 iterations of the automaton with one cell at the center if a seed is not given\n",
    "    if seed is None:\n",
    "        seed = automata_rand(rule, 50, np.uint64(2147483648))[49]\n",
    "        \n",
    "    # Make sure the seed is a 64 bit unsigned integer\n",
    "    if type(seed) != np.uint64:\n",
    "        seed = np.uint64(seed)\n",
    "        \n",
    "    # Pass the seed through one cellular automata cycle\n",
    "    state = unpackbits64(seed)\n",
    "    state = cellular_step(state, rule)\n",
    "    seed = packbits64(state)\n",
    "        \n",
    "    if n == 1: # Return a single value\n",
    "        return seed\n",
    "    else: # Get the next value and append to the array\n",
    "        gen_nums = np.empty([1], dtype=np.uint64)\n",
    "        gen_nums[0] = seed\n",
    "        gen_nums = np.append(gen_nums, automata_rand(rule, n-1, seed))\n",
    "        return gen_nums\n",
    "        \n",
    "    # Function should never reach this point\n",
    "    assert (False)\n",
    "    return"
   ]
  },
  {
   "cell_type": "code",
   "execution_count": 122,
   "metadata": {},
   "outputs": [
    {
     "name": "stdout",
     "output_type": "stream",
     "text": [
      "Using single cell automata we can produce a sequence of 12 pseudo-random numbers like so:\n",
      "[ 4154833229990782878 16970595671829032114 11726952154966920500\n",
      "   874331476871281777  9064866832490989014 14221716280219220294\n",
      " 15570501625269938718 15844141963174174962 15721986324399091604\n",
      " 15620934454096914593  6616685541272019727  1893613931168755577]\n"
     ]
    }
   ],
   "source": [
    "random_numbers = automata_rand(three_step_rules[0], 12)\n",
    "\n",
    "print(\"Using single cell automata we can produce a sequence of 12 pseudo-random numbers like so:\")\n",
    "print(random_numbers)"
   ]
  }
 ],
 "metadata": {
  "kernelspec": {
   "display_name": "Python 3",
   "language": "python",
   "name": "python3"
  },
  "language_info": {
   "codemirror_mode": {
    "name": "ipython",
    "version": 3
   },
   "file_extension": ".py",
   "mimetype": "text/x-python",
   "name": "python",
   "nbconvert_exporter": "python",
   "pygments_lexer": "ipython3",
   "version": "3.8.8"
  }
 },
 "nbformat": 4,
 "nbformat_minor": 4
}
